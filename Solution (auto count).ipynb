{
 "cells": [
  {
   "cell_type": "code",
   "execution_count": 190,
   "metadata": {
    "collapsed": true
   },
   "outputs": [],
   "source": [
    "import numpy as np\n",
    "import cv2 \n",
    "import matplotlib.pyplot as plt\n",
    "%matplotlib inline\n",
    "plt.rcParams[\"figure.figsize\"] = (10, 7)\n",
    "\n",
    "videofile = './Novgorod_2019-04-05-15_15_00.mp4'"
   ]
  },
  {
   "cell_type": "code",
   "execution_count": null,
   "metadata": {
    "collapsed": true
   },
   "outputs": [],
   "source": [
    "out = cv2.VideoWriter('outpy.avi',cv2.VideoWriter_fourcc('M','J','P','G'), 10, (100,950))"
   ]
  },
  {
   "cell_type": "code",
   "execution_count": 192,
   "metadata": {},
   "outputs": [
    {
     "ename": "NameError",
     "evalue": "name 'e' is not defined",
     "output_type": "error",
     "traceback": [
      "\u001b[1;31m---------------------------------------------------------------------------\u001b[0m",
      "\u001b[1;31mNameError\u001b[0m                                 Traceback (most recent call last)",
      "\u001b[1;32m<ipython-input-192-96984a0d89ab>\u001b[0m in \u001b[0;36m<module>\u001b[1;34m()\u001b[0m\n\u001b[0;32m     62\u001b[0m \u001b[1;33m\u001b[0m\u001b[0m\n\u001b[1;32m---> 63\u001b[1;33m         \u001b[0mout\u001b[0m\u001b[1;33m.\u001b[0m\u001b[0mwrite\u001b[0m\u001b[1;33m(\u001b[0m\u001b[0mframe\u001b[0m\u001b[1;33m)\u001b[0m\u001b[1;33m\u001b[0m\u001b[0m\n\u001b[0m\u001b[0;32m     64\u001b[0m         \u001b[0mcv2\u001b[0m\u001b[1;33m.\u001b[0m\u001b[0mimshow\u001b[0m\u001b[1;33m(\u001b[0m\u001b[1;34m'video'\u001b[0m\u001b[1;33m,\u001b[0m \u001b[0mframe\u001b[0m\u001b[1;33m)\u001b[0m\u001b[1;33m\u001b[0m\u001b[0m\n",
      "\u001b[1;31mNameError\u001b[0m: name 'out' is not defined",
      "\nDuring handling of the above exception, another exception occurred:\n",
      "\u001b[1;31mNameError\u001b[0m                                 Traceback (most recent call last)",
      "\u001b[1;32m<ipython-input-192-96984a0d89ab>\u001b[0m in \u001b[0;36m<module>\u001b[1;34m()\u001b[0m\n\u001b[0;32m     68\u001b[0m             \u001b[0mout\u001b[0m\u001b[1;33m.\u001b[0m\u001b[0mrelease\u001b[0m\u001b[1;33m(\u001b[0m\u001b[1;33m)\u001b[0m\u001b[1;33m\u001b[0m\u001b[0m\n\u001b[0;32m     69\u001b[0m             \u001b[1;32mbreak\u001b[0m\u001b[1;33m\u001b[0m\u001b[0m\n\u001b[1;32m---> 70\u001b[1;33m     \u001b[1;32mexcept\u001b[0m \u001b[0mException\u001b[0m\u001b[1;33m(\u001b[0m\u001b[0me\u001b[0m\u001b[1;33m)\u001b[0m\u001b[1;33m:\u001b[0m\u001b[1;33m\u001b[0m\u001b[0m\n\u001b[0m\u001b[0;32m     71\u001b[0m         \u001b[0mprint\u001b[0m\u001b[1;33m(\u001b[0m\u001b[0me\u001b[0m\u001b[1;33m)\u001b[0m\u001b[1;33m\u001b[0m\u001b[0m\n\u001b[0;32m     72\u001b[0m         \u001b[0mcv2\u001b[0m\u001b[1;33m.\u001b[0m\u001b[0mdestroyAllWindows\u001b[0m\u001b[1;33m(\u001b[0m\u001b[1;33m)\u001b[0m\u001b[1;33m\u001b[0m\u001b[0m\n",
      "\u001b[1;31mNameError\u001b[0m: name 'e' is not defined"
     ]
    }
   ],
   "source": [
    "thres_bitwise = 5\n",
    "thres_cnt = 5000\n",
    "\n",
    "cap = cv2.VideoCapture(videofile)\n",
    "ret, frame = cap.read()  \n",
    "frame = frame[1850:2800,1000:1100]\n",
    "window1 = frame[50:150]\n",
    "window2 = frame[250:350]\n",
    "window3 = frame[400:550]\n",
    "window4 = frame[600:750]\n",
    "\n",
    "windows_cnt = [0,0,0,0]\n",
    "\n",
    "windows_flags = [False, False, False, False]\n",
    "\n",
    "while cap.isOpened():\n",
    "    try:\n",
    "        ret, frame = cap.read()    \n",
    "        frame = frame[1850:2800,1000:1100]\n",
    "        \n",
    "        if (cv2.bitwise_xor(frame[50:150], window1) > thres_bitwise)[:,:,0].sum() > thres_cnt:\n",
    "            if not windows_flags[0]:\n",
    "                windows_flags[0] = True\n",
    "                windows_cnt[0] += 1\n",
    "        else:\n",
    "            windows_flags[0] = False\n",
    "            \n",
    "            \n",
    "        if (cv2.bitwise_xor(frame[250:350], window2) > thres_bitwise)[:,:,0].sum() > thres_cnt:\n",
    "            if not windows_flags[1]:\n",
    "                windows_flags[1] = True\n",
    "                windows_cnt[1] += 1\n",
    "        else:\n",
    "            windows_flags[1] = False\n",
    "            \n",
    "            \n",
    "        if (cv2.bitwise_xor(frame[400:550], window3) > thres_bitwise)[:,:,0].sum() > thres_cnt:\n",
    "            if not windows_flags[2]:\n",
    "                windows_flags[2] = True\n",
    "                windows_cnt[2] += 1\n",
    "        else:\n",
    "            windows_flags[2] = False\n",
    "            \n",
    "            \n",
    "        if (cv2.bitwise_xor(frame[600:750], window4) > thres_bitwise)[:,:,0].sum() > thres_cnt:\n",
    "            if not windows_flags[3]:\n",
    "                windows_flags[3] = True\n",
    "                windows_cnt[3] += 1\n",
    "                break\n",
    "        else:\n",
    "            windows_flags[3] = False\n",
    "                \n",
    "        \n",
    "        cv2.putText(frame, f\"count: {windows_cnt[0]}\", (10,100), cv2.FONT_HERSHEY_SIMPLEX, 0.5, (255,0,0), 2)\n",
    "        cv2.putText(frame, f\"count: {windows_cnt[1]}\", (10,300), cv2.FONT_HERSHEY_SIMPLEX, 0.5, (0,255,0), 2)\n",
    "        cv2.putText(frame, f\"count: {windows_cnt[2]}\", (10,500), cv2.FONT_HERSHEY_SIMPLEX, 0.5, (255,0,255), 2)\n",
    "        cv2.putText(frame, f\"count: {windows_cnt[3]}\", (10,700), cv2.FONT_HERSHEY_SIMPLEX, 0.5, (255,255,0), 2)\n",
    "        cv2.rectangle(frame, (0,50), (100,150), (255,0,0), 2, 1)\n",
    "        cv2.rectangle(frame, (0,250), (100,350), (0,255,0), 2, 1)\n",
    "        cv2.rectangle(frame, (0,450), (100,550), (255,0,255), 2, 1)\n",
    "        cv2.rectangle(frame, (0,650), (100,750), (255,255,0), 2, 1)\n",
    "        \n",
    "        out.write(frame)\n",
    "        cv2.imshow('video', frame)\n",
    "        key = cv2.waitKey(1)\n",
    "        if key & 0xFF == ord('q'):\n",
    "            cv2.destroyAllWindows()\n",
    "            out.release()\n",
    "            break\n",
    "    except Exception(e):\n",
    "        print(e)\n",
    "        cv2.destroyAllWindows()\n",
    "        out.release()\n",
    "        break"
   ]
  }
 ],
 "metadata": {
  "kernelspec": {
   "display_name": "Python 3",
   "language": "python",
   "name": "python3"
  },
  "language_info": {
   "codemirror_mode": {
    "name": "ipython",
    "version": 3
   },
   "file_extension": ".py",
   "mimetype": "text/x-python",
   "name": "python",
   "nbconvert_exporter": "python",
   "pygments_lexer": "ipython3",
   "version": "3.6.6"
  }
 },
 "nbformat": 4,
 "nbformat_minor": 2
}
