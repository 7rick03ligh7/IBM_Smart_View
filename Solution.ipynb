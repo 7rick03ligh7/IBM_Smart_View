{
 "cells": [
  {
   "cell_type": "code",
   "execution_count": 1,
   "metadata": {
    "collapsed": true
   },
   "outputs": [],
   "source": [
    "import os\n",
    "import sys\n",
    "\n",
    "sys.path.append(os.path.join('.', 'pytorch_yolo_v3'))"
   ]
  },
  {
   "cell_type": "code",
   "execution_count": 2,
   "metadata": {
    "collapsed": true
   },
   "outputs": [],
   "source": [
    "from __future__ import division\n",
    "import time\n",
    "import torch \n",
    "import torch.nn as nn\n",
    "from torch.autograd import Variable\n",
    "import numpy as np\n",
    "import cv2 \n",
    "from util import *\n",
    "from darknet import Darknet\n",
    "from preprocess import prep_image, inp_to_image, letterbox_image\n",
    "import pandas as pd\n",
    "import random \n",
    "import pickle as pkl\n",
    "import argparse\n",
    "\n",
    "import matplotlib.pyplot as plt\n",
    "%matplotlib inline"
   ]
  },
  {
   "cell_type": "code",
   "execution_count": 3,
   "metadata": {
    "collapsed": true
   },
   "outputs": [],
   "source": [
    "def letterbox_image(img, inp_dim):\n",
    "    '''resize image with unchanged aspect ratio using padding'''\n",
    "    img_w, img_h = img.shape[1], img.shape[0]\n",
    "    w, h = inp_dim\n",
    "    new_w = int(img_w * min(w/img_w, h/img_h))\n",
    "    new_h = int(img_h * min(w/img_w, h/img_h))\n",
    "    resized_image = cv2.resize(img, (new_w,new_h), interpolation = cv2.INTER_CUBIC)\n",
    "    \n",
    "    canvas = np.full((inp_dim[1], inp_dim[0], 3), 128)\n",
    "\n",
    "    canvas[(h-new_h)//2:(h-new_h)//2 + new_h,(w-new_w)//2:(w-new_w)//2 + new_w,  :] = resized_image\n",
    "    \n",
    "    return canvas\n",
    "\n",
    "\n",
    "        \n",
    "def prep_image(orig_im, inp_dim):\n",
    "    \"\"\"\n",
    "    Prepare image for inputting to the neural network. \n",
    "    \n",
    "    Returns a Variable \n",
    "    \"\"\"\n",
    "\n",
    "#     orig_im = cv2.imread(img)\n",
    "    dim = orig_im.shape[1], orig_im.shape[0]\n",
    "    img = (letterbox_image(orig_im, (inp_dim, inp_dim)))\n",
    "    img_ = img[:,:,::-1].transpose((2,0,1)).copy()\n",
    "    img_ = torch.from_numpy(img_).float().div(255.0).unsqueeze(0)\n",
    "    return img_, orig_im, dim\n",
    "\n",
    "def prep_image_pil(img, network_dim):\n",
    "    orig_im = Image.open(img)\n",
    "    img = orig_im.convert('RGB')\n",
    "    dim = img.size\n",
    "    img = img.resize(network_dim)\n",
    "    img = torch.ByteTensor(torch.ByteStorage.from_buffer(img.tobytes()))\n",
    "    img = img.view(*network_dim, 3).transpose(0,1).transpose(0,2).contiguous()\n",
    "    img = img.view(1, 3,*network_dim)\n",
    "    img = img.float().div(255.0)\n",
    "    return (img, orig_im, dim)\n",
    "\n",
    "def inp_to_image(inp):\n",
    "    inp = inp.cpu().squeeze()\n",
    "    inp = inp*255\n",
    "    try:\n",
    "        inp = inp.data.numpy()\n",
    "    except RuntimeError:\n",
    "        inp = inp.numpy()\n",
    "    inp = inp.transpose(1,2,0)\n",
    "\n",
    "    inp = inp[:,:,::-1]\n",
    "    return inp"
   ]
  },
  {
   "cell_type": "code",
   "execution_count": 4,
   "metadata": {
    "collapsed": true
   },
   "outputs": [],
   "source": [
    "colors = pkl.load(open(\"pytorch_yolo_v3/pallete\", \"rb\"))\n",
    "\n",
    "def write(x, results):\n",
    "    c1 = tuple(map(lambda x: int(x.item()*1.6), tuple(x[1:3].int())))\n",
    "    c2 = tuple(map(lambda x: int(x.item()*1.6), tuple(x[3:5].int())))\n",
    "#     c1 = tuple(x[1:3].int())\n",
    "#     c2 = tuple(x[3:5].int())\n",
    "    img = results\n",
    "    cls = int(x[-1])\n",
    "    label = \"{0}\".format(classes[cls])\n",
    "    color = random.choice(colors)\n",
    "    cv2.rectangle(img, c1, c2,color, 1)\n",
    "    t_size = cv2.getTextSize(label, cv2.FONT_HERSHEY_PLAIN, 1 , 1)[0]\n",
    "    c2 = c1[0] + t_size[0] + 3, c1[1] + t_size[1] + 4\n",
    "    cv2.rectangle(img, c1, c2, color, -1)\n",
    "    cv2.putText(img, label, (c1[0], c1[1] + t_size[1] + 4), cv2.FONT_HERSHEY_PLAIN, 1, [225,255,255], 1)\n",
    "    return img"
   ]
  },
  {
   "cell_type": "code",
   "execution_count": 5,
   "metadata": {
    "collapsed": true
   },
   "outputs": [],
   "source": [
    "model = Darknet(\"pytorch_yolo_v3/cfg/yolov3.cfg\")\n",
    "model.load_weights(\"pytorch_yolo_v3/yolov3.weights\")"
   ]
  },
  {
   "cell_type": "code",
   "execution_count": 6,
   "metadata": {
    "collapsed": true
   },
   "outputs": [],
   "source": [
    "num_classes = 80\n",
    "classes = load_classes('pytorch_yolo_v3/data/coco.names') "
   ]
  },
  {
   "cell_type": "code",
   "execution_count": 7,
   "metadata": {
    "collapsed": true
   },
   "outputs": [],
   "source": [
    "_ = model.cuda()"
   ]
  },
  {
   "cell_type": "code",
   "execution_count": 8,
   "metadata": {
    "collapsed": true
   },
   "outputs": [],
   "source": [
    "CUDA = torch.cuda.is_available()"
   ]
  },
  {
   "cell_type": "code",
   "execution_count": 9,
   "metadata": {
    "collapsed": true
   },
   "outputs": [],
   "source": [
    "videofile = './Novgorod_2019-04-05-15_15_00.mp4'\n",
    "cap = cv2.VideoCapture(videofile)"
   ]
  },
  {
   "cell_type": "code",
   "execution_count": 14,
   "metadata": {},
   "outputs": [
    {
     "name": "stderr",
     "output_type": "stream",
     "text": [
      "C:\\Users\\Alexey\\Miniconda3\\lib\\site-packages\\torch\\nn\\modules\\upsampling.py:129: UserWarning: nn.Upsample is deprecated. Use nn.functional.interpolate instead.\n",
      "  warnings.warn(\"nn.{} is deprecated. Use nn.functional.interpolate instead.\".format(self.name))\n"
     ]
    },
    {
     "data": {
      "text/plain": [
       "<matplotlib.image.AxesImage at 0x1818c7f2a90>"
      ]
     },
     "execution_count": 14,
     "metadata": {},
     "output_type": "execute_result"
    },
    {
     "data": {
      "image/png": "[encoded data removed]",
      "text/plain": [
       "<Figure size 432x288 with 1 Axes>"
      ]
     },
     "metadata": {},
     "output_type": "display_data"
    }
   ],
   "source": [
    "videofile = './Novgorod_2019-04-05-15_15_00.mp4'\n",
    "cap = cv2.VideoCapture(videofile)\n",
    "\n",
    "ret, frame = cap.read()\n",
    "frame = frame[1500:2500,1500:2500]\n",
    "frame = cv2.resize(frame, dsize=(512, 512), interpolation=cv2.INTER_CUBIC)\n",
    "img = (torch.FloatTensor(frame).permute(2,0,1).unsqueeze(0)/255).cuda()\n",
    "\n",
    "with torch.no_grad():\n",
    "    prediction = model(img, CUDA)\n",
    "prediction = write_results(prediction.cuda(), confidence, num_classes, nms = True, nms_conf = nms_thesh)\n",
    "\n",
    "trackers = []\n",
    "bboxes = []\n",
    "for pred in prediction:\n",
    "    tracker = cv2.TrackerKCF_create()\n",
    "    trackers.append(tracker)\n",
    "\n",
    "    c1 = tuple(map(lambda x: int(x.item()*1.6), tuple(pred[1:3].int())))\n",
    "    c2 = tuple(map(lambda x: int(x.item()*1.6), tuple(pred[3:5].int())))\n",
    "    bbox = c1+c2\n",
    "    bbox = [x if x>0 else 0 for x in bbox]\n",
    "    bbox = [x if x<511 else 511 for x in bbox]\n",
    "    bboxes.append(bbox)\n",
    "    tracker.init(frame, (bbox[0], bbox[1], bbox[2]-bbox[0], bbox[3]-bbox[1]))\n",
    "    frame = cv2.rectangle(frame, tuple(bbox[0:2]), tuple(bbox[2:4]), (255,0,0), 2, 1)\n",
    "plt.imshow(frame)"
   ]
  },
  {
   "cell_type": "code",
   "execution_count": 74,
   "metadata": {},
   "outputs": [
    {
     "data": {
      "text/plain": [
       "['car', 'car']"
      ]
     },
     "execution_count": 74,
     "metadata": {},
     "output_type": "execute_result"
    }
   ],
   "source": [
    "[classes[int(x[-1])] for x in prediction if int(x[0]) == 0]"
   ]
  },
  {
   "cell_type": "code",
   "execution_count": 13,
   "metadata": {},
   "outputs": [
    {
     "name": "stderr",
     "output_type": "stream",
     "text": [
      "C:\\Users\\Alexey\\Miniconda3\\lib\\site-packages\\torch\\nn\\modules\\upsampling.py:129: UserWarning: nn.Upsample is deprecated. Use nn.functional.interpolate instead.\n",
      "  warnings.warn(\"nn.{} is deprecated. Use nn.functional.interpolate instead.\".format(self.name))\n"
     ]
    }
   ],
   "source": [
    "while cap.isOpened():\n",
    "    try:\n",
    "        ret, frame = cap.read()\n",
    "        frame = frame[1500:2500,1500:2500]\n",
    "        frame = cv2.resize(frame, dsize=(512, 512), interpolation=cv2.INTER_CUBIC)\n",
    "        ok, bbox = tracker.update(frame)\n",
    "        img = (torch.FloatTensor(frame).permute(2,0,1).unsqueeze(0)/255).cuda()\n",
    "        \n",
    "\n",
    "        with torch.no_grad():\n",
    "            prediction = model(img, CUDA)\n",
    "        prediction = write_results(prediction.cuda(), confidence, num_classes, nms = True, nms_conf = nms_thesh)    \n",
    "        a = list(map(lambda x: write(x, frame), prediction))\n",
    "        if ok:\n",
    "            # Tracking success\n",
    "            p1 = (int(bbox[0]), int(bbox[1]))\n",
    "            p2 = (int(bbox[0] + bbox[2]), int(bbox[1] + bbox[3]))\n",
    "            cv2.rectangle(a[0], p1, p2, (255,0,0), 2, 1)\n",
    "        else :\n",
    "            # Tracking failure\n",
    "            cv2.putText(a[0], \"Tracking failure detected\", (100,80), cv2.FONT_HERSHEY_SIMPLEX, 0.75,(0,0,255),2)\n",
    "\n",
    "        cv2.imshow('video', a[0])\n",
    "        key = cv2.waitKey(1)\n",
    "        if key & 0xFF == ord('q'):\n",
    "            cv2.destroyAllWindows()\n",
    "            break\n",
    "    except Exception(e):\n",
    "        print(e)\n",
    "        cv2.destroyAllWindows()\n",
    "        break"
   ]
  },
  {
   "cell_type": "code",
   "execution_count": null,
   "metadata": {
    "collapsed": true
   },
   "outputs": [],
   "source": []
  },
  {
   "cell_type": "code",
   "execution_count": 209,
   "metadata": {},
   "outputs": [
    {
     "name": "stderr",
     "output_type": "stream",
     "text": [
      "C:\\Users\\Alexey\\Miniconda3\\lib\\site-packages\\torch\\nn\\modules\\upsampling.py:129: UserWarning: nn.Upsample is deprecated. Use nn.functional.interpolate instead.\n",
      "  warnings.warn(\"nn.{} is deprecated. Use nn.functional.interpolate instead.\".format(self.name))\n"
     ]
    }
   ],
   "source": [
    "while cap.isOpened():\n",
    "#     for i in range(pass_step):\n",
    "#         cap.read()\n",
    "    try:\n",
    "        ret, frame = cap.read()\n",
    "        frame = frame[1500:2500,1500:2500]\n",
    "        frame = cv2.resize(frame, dsize=(512, 512), interpolation=cv2.INTER_CUBIC)\n",
    "        img = (torch.FloatTensor(frame).permute(2,0,1).unsqueeze(0)/255).cuda()\n",
    "\n",
    "        with torch.no_grad():\n",
    "            prediction = model(img, CUDA)\n",
    "        prediction = write_results(prediction.cuda(), confidence, num_classes, nms = True, nms_conf = nms_thesh)\n",
    "        a = list(map(lambda x: write(x, frame), prediction))\n",
    "\n",
    "        cv2.imshow('video', a[0])\n",
    "        key = cv2.waitKey(1)\n",
    "        if key & 0xFF == ord('q'):\n",
    "            cv2.destroyAllWindows()\n",
    "            break\n",
    "    except Exception(e):\n",
    "        print(e)\n",
    "        cv2.destroyAllWindows()\n",
    "        break"
   ]
  }
 ],
 "metadata": {
  "kernelspec": {
   "display_name": "Python 3",
   "language": "python",
   "name": "python3"
  },
  "language_info": {
   "codemirror_mode": {
    "name": "ipython",
    "version": 3
   },
   "file_extension": ".py",
   "mimetype": "text/x-python",
   "name": "python",
   "nbconvert_exporter": "python",
   "pygments_lexer": "ipython3",
   "version": "3.6.6"
  }
 },
 "nbformat": 4,
 "nbformat_minor": 2
}
